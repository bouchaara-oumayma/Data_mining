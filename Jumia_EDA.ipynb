{
 "cells": [
  {
   "cell_type": "code",
   "execution_count": 1,
   "metadata": {},
   "outputs": [],
   "source": [
    "#importer les bibiliotheques\n",
    "import pandas as pd\n",
    "import numpy as np\n",
    "import matplotlib.pyplot as plt\n",
    "import seaborn as sns\n",
    "import missingno as msno"
   ]
  },
  {
   "cell_type": "code",
   "execution_count": 2,
   "metadata": {},
   "outputs": [],
   "source": [
    "jumia_clothes=pd.read_csv('Jumia_clothes.csv')"
   ]
  },
  {
   "cell_type": "code",
   "execution_count": 3,
   "metadata": {},
   "outputs": [
    {
     "data": {
      "text/html": [
       "<div>\n",
       "<style scoped>\n",
       "    .dataframe tbody tr th:only-of-type {\n",
       "        vertical-align: middle;\n",
       "    }\n",
       "\n",
       "    .dataframe tbody tr th {\n",
       "        vertical-align: top;\n",
       "    }\n",
       "\n",
       "    .dataframe thead th {\n",
       "        text-align: right;\n",
       "    }\n",
       "</style>\n",
       "<table border=\"1\" class=\"dataframe\">\n",
       "  <thead>\n",
       "    <tr style=\"text-align: right;\">\n",
       "      <th></th>\n",
       "      <th>id</th>\n",
       "      <th>name</th>\n",
       "      <th>brand</th>\n",
       "      <th>category</th>\n",
       "      <th>price$</th>\n",
       "      <th>boutique_officielle</th>\n",
       "      <th>price</th>\n",
       "      <th>gender</th>\n",
       "      <th>price_before</th>\n",
       "      <th>promotion</th>\n",
       "      <th>reviews</th>\n",
       "      <th>numberofReviewers</th>\n",
       "      <th>Livraison_gratuite</th>\n",
       "      <th>Date</th>\n",
       "    </tr>\n",
       "  </thead>\n",
       "  <tbody>\n",
       "    <tr>\n",
       "      <th>0</th>\n",
       "      <td>GE232FA1FQVNSNAFAMZ</td>\n",
       "      <td>Hoodie/Capuchon Death Note Anime - Otaku</td>\n",
       "      <td>Generic</td>\n",
       "      <td>Fashion/Men's Fashion/Clothing/Fashion Hoodies...</td>\n",
       "      <td>6.04</td>\n",
       "      <td>No</td>\n",
       "      <td>64.60 Dhs</td>\n",
       "      <td>Homme</td>\n",
       "      <td>233.00 Dhs</td>\n",
       "      <td>72%</td>\n",
       "      <td>3.2 out of 5</td>\n",
       "      <td>(81)</td>\n",
       "      <td>No</td>\n",
       "      <td>2022-03-25</td>\n",
       "    </tr>\n",
       "    <tr>\n",
       "      <th>1</th>\n",
       "      <td>GE232MW1JMM00NAFAMZ</td>\n",
       "      <td>Hoodie Manga Naruto Anime Itachi Uchiha Sweats...</td>\n",
       "      <td>Generic</td>\n",
       "      <td>Fashion/Men's Fashion/Clothing/Fashion Hoodies...</td>\n",
       "      <td>13.92</td>\n",
       "      <td>No</td>\n",
       "      <td>149.00 Dhs</td>\n",
       "      <td>Homme</td>\n",
       "      <td>192.00 Dhs</td>\n",
       "      <td>22%</td>\n",
       "      <td>4 out of 5</td>\n",
       "      <td>(11)</td>\n",
       "      <td>No</td>\n",
       "      <td>2022-03-25</td>\n",
       "    </tr>\n",
       "    <tr>\n",
       "      <th>2</th>\n",
       "      <td>GE232MW011137NAFAMZ</td>\n",
       "      <td>Hoodie Manga Anime Naruto Shippuden Sweatshirt...</td>\n",
       "      <td>Generic</td>\n",
       "      <td>Fashion/Men's Fashion/Clothing/Fashion Hoodies...</td>\n",
       "      <td>20.46</td>\n",
       "      <td>No</td>\n",
       "      <td>219.00 Dhs</td>\n",
       "      <td>Homme</td>\n",
       "      <td>260.00 Dhs</td>\n",
       "      <td>16%</td>\n",
       "      <td>4.5 out of 5</td>\n",
       "      <td>(19)</td>\n",
       "      <td>No</td>\n",
       "      <td>2022-03-25</td>\n",
       "    </tr>\n",
       "    <tr>\n",
       "      <th>3</th>\n",
       "      <td>GE232FA1MGS7TNAFAMZ</td>\n",
       "      <td>Hoodie / Capuchon noir avec motif de ATTACK ON...</td>\n",
       "      <td>Generic</td>\n",
       "      <td>Fashion/Men's Fashion/Clothing/Fashion Hoodies...</td>\n",
       "      <td>7.90</td>\n",
       "      <td>No</td>\n",
       "      <td>84.55 Dhs</td>\n",
       "      <td>Homme</td>\n",
       "      <td>399.00 Dhs</td>\n",
       "      <td>79%</td>\n",
       "      <td>3.4 out of 5</td>\n",
       "      <td>(35)</td>\n",
       "      <td>No</td>\n",
       "      <td>2022-03-25</td>\n",
       "    </tr>\n",
       "    <tr>\n",
       "      <th>4</th>\n",
       "      <td>GE232MW0X9UR9NAFAMZ</td>\n",
       "      <td>Hoodie Manga Anime Naruto Shippuden Sweatshirt...</td>\n",
       "      <td>Generic</td>\n",
       "      <td>Fashion/Men's Fashion/Clothing/Fashion Hoodies...</td>\n",
       "      <td>13.92</td>\n",
       "      <td>No</td>\n",
       "      <td>149.00 Dhs</td>\n",
       "      <td>Homme</td>\n",
       "      <td>285.00 Dhs</td>\n",
       "      <td>48%</td>\n",
       "      <td>3.3 out of 5</td>\n",
       "      <td>(33)</td>\n",
       "      <td>No</td>\n",
       "      <td>2022-03-25</td>\n",
       "    </tr>\n",
       "  </tbody>\n",
       "</table>\n",
       "</div>"
      ],
      "text/plain": [
       "                    id                                               name  \\\n",
       "0  GE232FA1FQVNSNAFAMZ           Hoodie/Capuchon Death Note Anime - Otaku   \n",
       "1  GE232MW1JMM00NAFAMZ  Hoodie Manga Naruto Anime Itachi Uchiha Sweats...   \n",
       "2  GE232MW011137NAFAMZ  Hoodie Manga Anime Naruto Shippuden Sweatshirt...   \n",
       "3  GE232FA1MGS7TNAFAMZ  Hoodie / Capuchon noir avec motif de ATTACK ON...   \n",
       "4  GE232MW0X9UR9NAFAMZ  Hoodie Manga Anime Naruto Shippuden Sweatshirt...   \n",
       "\n",
       "     brand                                           category  price$  \\\n",
       "0  Generic  Fashion/Men's Fashion/Clothing/Fashion Hoodies...    6.04   \n",
       "1  Generic  Fashion/Men's Fashion/Clothing/Fashion Hoodies...   13.92   \n",
       "2  Generic  Fashion/Men's Fashion/Clothing/Fashion Hoodies...   20.46   \n",
       "3  Generic  Fashion/Men's Fashion/Clothing/Fashion Hoodies...    7.90   \n",
       "4  Generic  Fashion/Men's Fashion/Clothing/Fashion Hoodies...   13.92   \n",
       "\n",
       "  boutique_officielle       price gender price_before promotion       reviews  \\\n",
       "0                  No   64.60 Dhs  Homme   233.00 Dhs       72%  3.2 out of 5   \n",
       "1                  No  149.00 Dhs  Homme   192.00 Dhs       22%    4 out of 5   \n",
       "2                  No  219.00 Dhs  Homme   260.00 Dhs       16%  4.5 out of 5   \n",
       "3                  No   84.55 Dhs  Homme   399.00 Dhs       79%  3.4 out of 5   \n",
       "4                  No  149.00 Dhs  Homme   285.00 Dhs       48%  3.3 out of 5   \n",
       "\n",
       "  numberofReviewers Livraison_gratuite        Date  \n",
       "0              (81)                 No  2022-03-25  \n",
       "1              (11)                 No  2022-03-25  \n",
       "2              (19)                 No  2022-03-25  \n",
       "3              (35)                 No  2022-03-25  \n",
       "4              (33)                 No  2022-03-25  "
      ]
     },
     "execution_count": 3,
     "metadata": {},
     "output_type": "execute_result"
    }
   ],
   "source": [
    "#afficher les cinq premieres lignes\n",
    "jumia_clothes.head()"
   ]
  },
  {
   "cell_type": "code",
   "execution_count": 4,
   "metadata": {},
   "outputs": [
    {
     "data": {
      "text/plain": [
       "Index(['id', 'name', 'brand', 'category', 'price$', 'boutique_officielle',\n",
       "       'price', 'gender', 'price_before', 'promotion', 'reviews',\n",
       "       'numberofReviewers', 'Livraison_gratuite', 'Date'],\n",
       "      dtype='object')"
      ]
     },
     "execution_count": 4,
     "metadata": {},
     "output_type": "execute_result"
    }
   ],
   "source": [
    "jumia_clothes.columns"
   ]
  },
  {
   "cell_type": "code",
   "execution_count": 5,
   "metadata": {},
   "outputs": [
    {
     "name": "stdout",
     "output_type": "stream",
     "text": [
      "<class 'pandas.core.frame.DataFrame'>\n",
      "RangeIndex: 45138 entries, 0 to 45137\n",
      "Data columns (total 14 columns):\n",
      " #   Column               Non-Null Count  Dtype  \n",
      "---  ------               --------------  -----  \n",
      " 0   id                   45138 non-null  object \n",
      " 1   name                 45138 non-null  object \n",
      " 2   brand                45138 non-null  object \n",
      " 3   category             45138 non-null  object \n",
      " 4   price$               45138 non-null  float64\n",
      " 5   boutique_officielle  45138 non-null  object \n",
      " 6   price                45138 non-null  object \n",
      " 7   gender               45138 non-null  object \n",
      " 8   price_before         41738 non-null  object \n",
      " 9   promotion            41738 non-null  object \n",
      " 10  reviews              6630 non-null   object \n",
      " 11  numberofReviewers    6630 non-null   object \n",
      " 12  Livraison_gratuite   45138 non-null  object \n",
      " 13  Date                 45138 non-null  object \n",
      "dtypes: float64(1), object(13)\n",
      "memory usage: 4.8+ MB\n"
     ]
    }
   ],
   "source": [
    "jumia_clothes.info()"
   ]
  },
  {
   "cell_type": "code",
   "execution_count": 6,
   "metadata": {},
   "outputs": [
    {
     "data": {
      "text/plain": [
       "id                         0\n",
       "name                       0\n",
       "brand                      0\n",
       "category                   0\n",
       "price$                     0\n",
       "boutique_officielle        0\n",
       "price                      0\n",
       "gender                     0\n",
       "price_before            3400\n",
       "promotion               3400\n",
       "reviews                38508\n",
       "numberofReviewers      38508\n",
       "Livraison_gratuite         0\n",
       "Date                       0\n",
       "dtype: int64"
      ]
     },
     "execution_count": 6,
     "metadata": {},
     "output_type": "execute_result"
    }
   ],
   "source": [
    "jumia_clothes.isna().sum()"
   ]
  },
  {
   "cell_type": "code",
   "execution_count": 497,
   "metadata": {},
   "outputs": [
    {
     "data": {
      "text/plain": [
       "(45138, 14)"
      ]
     },
     "execution_count": 497,
     "metadata": {},
     "output_type": "execute_result"
    }
   ],
   "source": [
    "jumia_clothes.shape"
   ]
  },
  {
   "cell_type": "markdown",
   "metadata": {},
   "source": [
    "it seems that there are some missing values in some features,let's see how to deal with each feature."
   ]
  },
  {
   "cell_type": "markdown",
   "metadata": {},
   "source": [
    "* price_before&promotion"
   ]
  },
  {
   "cell_type": "code",
   "execution_count": 9,
   "metadata": {},
   "outputs": [],
   "source": [
    "jumia_clothes.dropna(subset=['price_before','promotion'],inplace=True)"
   ]
  },
  {
   "cell_type": "code",
   "execution_count": 10,
   "metadata": {},
   "outputs": [
    {
     "data": {
      "text/plain": [
       "id                         0\n",
       "name                       0\n",
       "brand                      0\n",
       "category                   0\n",
       "price$                     0\n",
       "boutique_officielle        0\n",
       "price                      0\n",
       "gender                     0\n",
       "price_before               0\n",
       "promotion                  0\n",
       "reviews                36198\n",
       "numberofReviewers      36198\n",
       "Livraison_gratuite         0\n",
       "Date                       0\n",
       "dtype: int64"
      ]
     },
     "execution_count": 10,
     "metadata": {},
     "output_type": "execute_result"
    }
   ],
   "source": [
    "jumia_clothes.isna().sum()"
   ]
  },
  {
   "cell_type": "markdown",
   "metadata": {},
   "source": [
    "* reviews&numberofReviewers"
   ]
  },
  {
   "cell_type": "code",
   "execution_count": 11,
   "metadata": {},
   "outputs": [],
   "source": [
    "jumia_clothes = jumia_clothes.fillna({'reviews':0,\n",
    "                        'numberofReviewers':0})\n",
    "is_rated = np.where(jumia_clothes['numberofReviewers'].isna() == True, 0, 1)\n",
    "jumia_clothes['is_rated'] = is_rated"
   ]
  },
  {
   "cell_type": "code",
   "execution_count": 12,
   "metadata": {},
   "outputs": [
    {
     "data": {
      "text/plain": [
       "id                     0\n",
       "name                   0\n",
       "brand                  0\n",
       "category               0\n",
       "price$                 0\n",
       "boutique_officielle    0\n",
       "price                  0\n",
       "gender                 0\n",
       "price_before           0\n",
       "promotion              0\n",
       "reviews                0\n",
       "numberofReviewers      0\n",
       "Livraison_gratuite     0\n",
       "Date                   0\n",
       "is_rated               0\n",
       "dtype: int64"
      ]
     },
     "execution_count": 12,
     "metadata": {},
     "output_type": "execute_result"
    }
   ],
   "source": [
    "jumia_clothes.isna().sum()"
   ]
  },
  {
   "cell_type": "markdown",
   "metadata": {},
   "source": [
    "###### Now let's apply some feature transformations on each column"
   ]
  },
  {
   "cell_type": "markdown",
   "metadata": {},
   "source": [
    "### Price&Price_before"
   ]
  },
  {
   "cell_type": "code",
   "execution_count": 13,
   "metadata": {},
   "outputs": [
    {
     "data": {
      "text/html": [
       "<div>\n",
       "<style scoped>\n",
       "    .dataframe tbody tr th:only-of-type {\n",
       "        vertical-align: middle;\n",
       "    }\n",
       "\n",
       "    .dataframe tbody tr th {\n",
       "        vertical-align: top;\n",
       "    }\n",
       "\n",
       "    .dataframe thead th {\n",
       "        text-align: right;\n",
       "    }\n",
       "</style>\n",
       "<table border=\"1\" class=\"dataframe\">\n",
       "  <thead>\n",
       "    <tr style=\"text-align: right;\">\n",
       "      <th></th>\n",
       "      <th>price</th>\n",
       "      <th>price_before</th>\n",
       "    </tr>\n",
       "  </thead>\n",
       "  <tbody>\n",
       "    <tr>\n",
       "      <th>0</th>\n",
       "      <td>64.60 Dhs</td>\n",
       "      <td>233.00 Dhs</td>\n",
       "    </tr>\n",
       "    <tr>\n",
       "      <th>1</th>\n",
       "      <td>149.00 Dhs</td>\n",
       "      <td>192.00 Dhs</td>\n",
       "    </tr>\n",
       "    <tr>\n",
       "      <th>2</th>\n",
       "      <td>219.00 Dhs</td>\n",
       "      <td>260.00 Dhs</td>\n",
       "    </tr>\n",
       "    <tr>\n",
       "      <th>3</th>\n",
       "      <td>84.55 Dhs</td>\n",
       "      <td>399.00 Dhs</td>\n",
       "    </tr>\n",
       "    <tr>\n",
       "      <th>4</th>\n",
       "      <td>149.00 Dhs</td>\n",
       "      <td>285.00 Dhs</td>\n",
       "    </tr>\n",
       "    <tr>\n",
       "      <th>...</th>\n",
       "      <td>...</td>\n",
       "      <td>...</td>\n",
       "    </tr>\n",
       "    <tr>\n",
       "      <th>45127</th>\n",
       "      <td>84.00 Dhs</td>\n",
       "      <td>168.00 Dhs</td>\n",
       "    </tr>\n",
       "    <tr>\n",
       "      <th>45128</th>\n",
       "      <td>176.00 Dhs</td>\n",
       "      <td>352.00 Dhs</td>\n",
       "    </tr>\n",
       "    <tr>\n",
       "      <th>45129</th>\n",
       "      <td>89.00 Dhs</td>\n",
       "      <td>134.00 Dhs</td>\n",
       "    </tr>\n",
       "    <tr>\n",
       "      <th>45130</th>\n",
       "      <td>153.00 Dhs</td>\n",
       "      <td>306.00 Dhs</td>\n",
       "    </tr>\n",
       "    <tr>\n",
       "      <th>45131</th>\n",
       "      <td>153.00 Dhs</td>\n",
       "      <td>306.00 Dhs</td>\n",
       "    </tr>\n",
       "  </tbody>\n",
       "</table>\n",
       "<p>41738 rows × 2 columns</p>\n",
       "</div>"
      ],
      "text/plain": [
       "            price price_before\n",
       "0       64.60 Dhs   233.00 Dhs\n",
       "1      149.00 Dhs   192.00 Dhs\n",
       "2      219.00 Dhs   260.00 Dhs\n",
       "3       84.55 Dhs   399.00 Dhs\n",
       "4      149.00 Dhs   285.00 Dhs\n",
       "...           ...          ...\n",
       "45127   84.00 Dhs   168.00 Dhs\n",
       "45128  176.00 Dhs   352.00 Dhs\n",
       "45129   89.00 Dhs   134.00 Dhs\n",
       "45130  153.00 Dhs   306.00 Dhs\n",
       "45131  153.00 Dhs   306.00 Dhs\n",
       "\n",
       "[41738 rows x 2 columns]"
      ]
     },
     "execution_count": 13,
     "metadata": {},
     "output_type": "execute_result"
    }
   ],
   "source": [
    "jumia_clothes[['price','price_before']]"
   ]
  },
  {
   "cell_type": "code",
   "execution_count": 14,
   "metadata": {},
   "outputs": [],
   "source": [
    "jumia_clothes['price']=jumia_clothes['price'].str.replace(',','')\n",
    "jumia_clothes['price_before']=jumia_clothes['price_before'].str.replace(',','')"
   ]
  },
  {
   "cell_type": "code",
   "execution_count": 15,
   "metadata": {},
   "outputs": [],
   "source": [
    "jumia_clothes['price_before'] = jumia_clothes['price_before'].apply(lambda x: (float(x.split(' ')[0])+float(x.split(' ')[3]))/2 if '-' in x else x)\n",
    "jumia_clothes['price'] = jumia_clothes['price'].apply(lambda x: x.split(' ')[3] if '-' in x else x)"
   ]
  },
  {
   "cell_type": "code",
   "execution_count": 16,
   "metadata": {},
   "outputs": [],
   "source": [
    "jumia_clothes['price']=jumia_clothes['price'].str.strip('Dhs')\n",
    "jumia_clothes['price_before']=jumia_clothes['price_before'].str.strip('Dhs')"
   ]
  },
  {
   "cell_type": "code",
   "execution_count": 17,
   "metadata": {},
   "outputs": [],
   "source": [
    "jumia_clothes['price']=jumia_clothes['price'].astype(float)\n",
    "jumia_clothes['price_before']=jumia_clothes['price_before'].astype(float)"
   ]
  },
  {
   "cell_type": "code",
   "execution_count": 18,
   "metadata": {},
   "outputs": [
    {
     "data": {
      "text/plain": [
       "price           float64\n",
       "price_before    float64\n",
       "dtype: object"
      ]
     },
     "execution_count": 18,
     "metadata": {},
     "output_type": "execute_result"
    }
   ],
   "source": [
    "jumia_clothes[['price','price_before']].dtypes"
   ]
  },
  {
   "cell_type": "code",
   "execution_count": 19,
   "metadata": {},
   "outputs": [
    {
     "data": {
      "text/html": [
       "<div>\n",
       "<style scoped>\n",
       "    .dataframe tbody tr th:only-of-type {\n",
       "        vertical-align: middle;\n",
       "    }\n",
       "\n",
       "    .dataframe tbody tr th {\n",
       "        vertical-align: top;\n",
       "    }\n",
       "\n",
       "    .dataframe thead th {\n",
       "        text-align: right;\n",
       "    }\n",
       "</style>\n",
       "<table border=\"1\" class=\"dataframe\">\n",
       "  <thead>\n",
       "    <tr style=\"text-align: right;\">\n",
       "      <th></th>\n",
       "      <th>price</th>\n",
       "      <th>price_before</th>\n",
       "    </tr>\n",
       "  </thead>\n",
       "  <tbody>\n",
       "    <tr>\n",
       "      <th>0</th>\n",
       "      <td>64.60</td>\n",
       "      <td>233.0</td>\n",
       "    </tr>\n",
       "    <tr>\n",
       "      <th>1</th>\n",
       "      <td>149.00</td>\n",
       "      <td>192.0</td>\n",
       "    </tr>\n",
       "    <tr>\n",
       "      <th>2</th>\n",
       "      <td>219.00</td>\n",
       "      <td>260.0</td>\n",
       "    </tr>\n",
       "    <tr>\n",
       "      <th>3</th>\n",
       "      <td>84.55</td>\n",
       "      <td>399.0</td>\n",
       "    </tr>\n",
       "    <tr>\n",
       "      <th>4</th>\n",
       "      <td>149.00</td>\n",
       "      <td>285.0</td>\n",
       "    </tr>\n",
       "    <tr>\n",
       "      <th>...</th>\n",
       "      <td>...</td>\n",
       "      <td>...</td>\n",
       "    </tr>\n",
       "    <tr>\n",
       "      <th>45127</th>\n",
       "      <td>84.00</td>\n",
       "      <td>168.0</td>\n",
       "    </tr>\n",
       "    <tr>\n",
       "      <th>45128</th>\n",
       "      <td>176.00</td>\n",
       "      <td>352.0</td>\n",
       "    </tr>\n",
       "    <tr>\n",
       "      <th>45129</th>\n",
       "      <td>89.00</td>\n",
       "      <td>134.0</td>\n",
       "    </tr>\n",
       "    <tr>\n",
       "      <th>45130</th>\n",
       "      <td>153.00</td>\n",
       "      <td>306.0</td>\n",
       "    </tr>\n",
       "    <tr>\n",
       "      <th>45131</th>\n",
       "      <td>153.00</td>\n",
       "      <td>306.0</td>\n",
       "    </tr>\n",
       "  </tbody>\n",
       "</table>\n",
       "<p>41738 rows × 2 columns</p>\n",
       "</div>"
      ],
      "text/plain": [
       "        price  price_before\n",
       "0       64.60         233.0\n",
       "1      149.00         192.0\n",
       "2      219.00         260.0\n",
       "3       84.55         399.0\n",
       "4      149.00         285.0\n",
       "...       ...           ...\n",
       "45127   84.00         168.0\n",
       "45128  176.00         352.0\n",
       "45129   89.00         134.0\n",
       "45130  153.00         306.0\n",
       "45131  153.00         306.0\n",
       "\n",
       "[41738 rows x 2 columns]"
      ]
     },
     "execution_count": 19,
     "metadata": {},
     "output_type": "execute_result"
    }
   ],
   "source": [
    "jumia_clothes[['price','price_before']]"
   ]
  },
  {
   "cell_type": "markdown",
   "metadata": {},
   "source": [
    "### Promotion"
   ]
  },
  {
   "cell_type": "code",
   "execution_count": 20,
   "metadata": {},
   "outputs": [],
   "source": [
    "jumia_clothes['promotion']=jumia_clothes['promotion'].str.strip('%').astype(int)"
   ]
  },
  {
   "cell_type": "code",
   "execution_count": 21,
   "metadata": {},
   "outputs": [
    {
     "data": {
      "text/plain": [
       "0        72\n",
       "1        22\n",
       "2        16\n",
       "3        79\n",
       "4        48\n",
       "         ..\n",
       "45127    50\n",
       "45128    50\n",
       "45129    34\n",
       "45130    50\n",
       "45131    50\n",
       "Name: promotion, Length: 41738, dtype: int32"
      ]
     },
     "execution_count": 21,
     "metadata": {},
     "output_type": "execute_result"
    }
   ],
   "source": [
    "jumia_clothes['promotion']"
   ]
  },
  {
   "cell_type": "code",
   "execution_count": 22,
   "metadata": {},
   "outputs": [
    {
     "data": {
      "text/html": [
       "<div>\n",
       "<style scoped>\n",
       "    .dataframe tbody tr th:only-of-type {\n",
       "        vertical-align: middle;\n",
       "    }\n",
       "\n",
       "    .dataframe tbody tr th {\n",
       "        vertical-align: top;\n",
       "    }\n",
       "\n",
       "    .dataframe thead th {\n",
       "        text-align: right;\n",
       "    }\n",
       "</style>\n",
       "<table border=\"1\" class=\"dataframe\">\n",
       "  <thead>\n",
       "    <tr style=\"text-align: right;\">\n",
       "      <th></th>\n",
       "      <th>id</th>\n",
       "      <th>name</th>\n",
       "      <th>brand</th>\n",
       "      <th>category</th>\n",
       "      <th>price$</th>\n",
       "      <th>boutique_officielle</th>\n",
       "      <th>price</th>\n",
       "      <th>gender</th>\n",
       "      <th>price_before</th>\n",
       "      <th>promotion</th>\n",
       "      <th>reviews</th>\n",
       "      <th>numberofReviewers</th>\n",
       "      <th>Livraison_gratuite</th>\n",
       "      <th>Date</th>\n",
       "      <th>is_rated</th>\n",
       "    </tr>\n",
       "  </thead>\n",
       "  <tbody>\n",
       "    <tr>\n",
       "      <th>0</th>\n",
       "      <td>GE232FA1FQVNSNAFAMZ</td>\n",
       "      <td>Hoodie/Capuchon Death Note Anime - Otaku</td>\n",
       "      <td>Generic</td>\n",
       "      <td>Fashion/Men's Fashion/Clothing/Fashion Hoodies...</td>\n",
       "      <td>6.04</td>\n",
       "      <td>No</td>\n",
       "      <td>64.60</td>\n",
       "      <td>Homme</td>\n",
       "      <td>233.0</td>\n",
       "      <td>72</td>\n",
       "      <td>3.2 out of 5</td>\n",
       "      <td>(81)</td>\n",
       "      <td>No</td>\n",
       "      <td>2022-03-25</td>\n",
       "      <td>1</td>\n",
       "    </tr>\n",
       "    <tr>\n",
       "      <th>1</th>\n",
       "      <td>GE232MW1JMM00NAFAMZ</td>\n",
       "      <td>Hoodie Manga Naruto Anime Itachi Uchiha Sweats...</td>\n",
       "      <td>Generic</td>\n",
       "      <td>Fashion/Men's Fashion/Clothing/Fashion Hoodies...</td>\n",
       "      <td>13.92</td>\n",
       "      <td>No</td>\n",
       "      <td>149.00</td>\n",
       "      <td>Homme</td>\n",
       "      <td>192.0</td>\n",
       "      <td>22</td>\n",
       "      <td>4 out of 5</td>\n",
       "      <td>(11)</td>\n",
       "      <td>No</td>\n",
       "      <td>2022-03-25</td>\n",
       "      <td>1</td>\n",
       "    </tr>\n",
       "    <tr>\n",
       "      <th>2</th>\n",
       "      <td>GE232MW011137NAFAMZ</td>\n",
       "      <td>Hoodie Manga Anime Naruto Shippuden Sweatshirt...</td>\n",
       "      <td>Generic</td>\n",
       "      <td>Fashion/Men's Fashion/Clothing/Fashion Hoodies...</td>\n",
       "      <td>20.46</td>\n",
       "      <td>No</td>\n",
       "      <td>219.00</td>\n",
       "      <td>Homme</td>\n",
       "      <td>260.0</td>\n",
       "      <td>16</td>\n",
       "      <td>4.5 out of 5</td>\n",
       "      <td>(19)</td>\n",
       "      <td>No</td>\n",
       "      <td>2022-03-25</td>\n",
       "      <td>1</td>\n",
       "    </tr>\n",
       "    <tr>\n",
       "      <th>3</th>\n",
       "      <td>GE232FA1MGS7TNAFAMZ</td>\n",
       "      <td>Hoodie / Capuchon noir avec motif de ATTACK ON...</td>\n",
       "      <td>Generic</td>\n",
       "      <td>Fashion/Men's Fashion/Clothing/Fashion Hoodies...</td>\n",
       "      <td>7.90</td>\n",
       "      <td>No</td>\n",
       "      <td>84.55</td>\n",
       "      <td>Homme</td>\n",
       "      <td>399.0</td>\n",
       "      <td>79</td>\n",
       "      <td>3.4 out of 5</td>\n",
       "      <td>(35)</td>\n",
       "      <td>No</td>\n",
       "      <td>2022-03-25</td>\n",
       "      <td>1</td>\n",
       "    </tr>\n",
       "    <tr>\n",
       "      <th>4</th>\n",
       "      <td>GE232MW0X9UR9NAFAMZ</td>\n",
       "      <td>Hoodie Manga Anime Naruto Shippuden Sweatshirt...</td>\n",
       "      <td>Generic</td>\n",
       "      <td>Fashion/Men's Fashion/Clothing/Fashion Hoodies...</td>\n",
       "      <td>13.92</td>\n",
       "      <td>No</td>\n",
       "      <td>149.00</td>\n",
       "      <td>Homme</td>\n",
       "      <td>285.0</td>\n",
       "      <td>48</td>\n",
       "      <td>3.3 out of 5</td>\n",
       "      <td>(33)</td>\n",
       "      <td>No</td>\n",
       "      <td>2022-03-25</td>\n",
       "      <td>1</td>\n",
       "    </tr>\n",
       "  </tbody>\n",
       "</table>\n",
       "</div>"
      ],
      "text/plain": [
       "                    id                                               name  \\\n",
       "0  GE232FA1FQVNSNAFAMZ           Hoodie/Capuchon Death Note Anime - Otaku   \n",
       "1  GE232MW1JMM00NAFAMZ  Hoodie Manga Naruto Anime Itachi Uchiha Sweats...   \n",
       "2  GE232MW011137NAFAMZ  Hoodie Manga Anime Naruto Shippuden Sweatshirt...   \n",
       "3  GE232FA1MGS7TNAFAMZ  Hoodie / Capuchon noir avec motif de ATTACK ON...   \n",
       "4  GE232MW0X9UR9NAFAMZ  Hoodie Manga Anime Naruto Shippuden Sweatshirt...   \n",
       "\n",
       "     brand                                           category  price$  \\\n",
       "0  Generic  Fashion/Men's Fashion/Clothing/Fashion Hoodies...    6.04   \n",
       "1  Generic  Fashion/Men's Fashion/Clothing/Fashion Hoodies...   13.92   \n",
       "2  Generic  Fashion/Men's Fashion/Clothing/Fashion Hoodies...   20.46   \n",
       "3  Generic  Fashion/Men's Fashion/Clothing/Fashion Hoodies...    7.90   \n",
       "4  Generic  Fashion/Men's Fashion/Clothing/Fashion Hoodies...   13.92   \n",
       "\n",
       "  boutique_officielle   price gender  price_before  promotion       reviews  \\\n",
       "0                  No   64.60  Homme         233.0         72  3.2 out of 5   \n",
       "1                  No  149.00  Homme         192.0         22    4 out of 5   \n",
       "2                  No  219.00  Homme         260.0         16  4.5 out of 5   \n",
       "3                  No   84.55  Homme         399.0         79  3.4 out of 5   \n",
       "4                  No  149.00  Homme         285.0         48  3.3 out of 5   \n",
       "\n",
       "  numberofReviewers Livraison_gratuite        Date  is_rated  \n",
       "0              (81)                 No  2022-03-25         1  \n",
       "1              (11)                 No  2022-03-25         1  \n",
       "2              (19)                 No  2022-03-25         1  \n",
       "3              (35)                 No  2022-03-25         1  \n",
       "4              (33)                 No  2022-03-25         1  "
      ]
     },
     "execution_count": 22,
     "metadata": {},
     "output_type": "execute_result"
    }
   ],
   "source": [
    "jumia_clothes.head()"
   ]
  },
  {
   "cell_type": "markdown",
   "metadata": {},
   "source": [
    "### Reviews"
   ]
  },
  {
   "cell_type": "code",
   "execution_count": 23,
   "metadata": {},
   "outputs": [],
   "source": [
    "jumia_clothes['reviews']=jumia_clothes['reviews'].apply(lambda x:x.split(' ')[0] if x!=0 else x)"
   ]
  },
  {
   "cell_type": "code",
   "execution_count": 24,
   "metadata": {},
   "outputs": [
    {
     "data": {
      "text/plain": [
       "0        3.2\n",
       "1        4.0\n",
       "2        4.5\n",
       "3        3.4\n",
       "4        3.3\n",
       "        ... \n",
       "45127    0.0\n",
       "45128    0.0\n",
       "45129    0.0\n",
       "45130    0.0\n",
       "45131    0.0\n",
       "Name: reviews, Length: 41738, dtype: float64"
      ]
     },
     "execution_count": 24,
     "metadata": {},
     "output_type": "execute_result"
    }
   ],
   "source": [
    "jumia_clothes['reviews'].astype('float')"
   ]
  },
  {
   "cell_type": "markdown",
   "metadata": {},
   "source": [
    "### numberofReviewers"
   ]
  },
  {
   "cell_type": "code",
   "execution_count": 25,
   "metadata": {},
   "outputs": [],
   "source": [
    "jumia_clothes['numberofReviewers']=jumia_clothes['numberofReviewers'].apply(lambda x:x.strip('()') if x!=0 else x)"
   ]
  },
  {
   "cell_type": "code",
   "execution_count": 26,
   "metadata": {},
   "outputs": [
    {
     "data": {
      "text/plain": [
       "0        81\n",
       "1        11\n",
       "2        19\n",
       "3        35\n",
       "4        33\n",
       "         ..\n",
       "45127     0\n",
       "45128     0\n",
       "45129     0\n",
       "45130     0\n",
       "45131     0\n",
       "Name: numberofReviewers, Length: 41738, dtype: object"
      ]
     },
     "execution_count": 26,
     "metadata": {},
     "output_type": "execute_result"
    }
   ],
   "source": [
    "jumia_clothes['numberofReviewers']"
   ]
  },
  {
   "cell_type": "markdown",
   "metadata": {},
   "source": [
    "### Category"
   ]
  },
  {
   "cell_type": "code",
   "execution_count": 28,
   "metadata": {},
   "outputs": [
    {
     "data": {
      "text/plain": [
       "Fashion/Men's Fashion/Clothing/T-Shirts & Tanks/T-shirts                                                         2779\n",
       "Fashion/Men's Fashion/Clothing/Fashion Hoodies & Sweatshirts/Fashion Hoodies                                     1946\n",
       "Fashion/Men's Fashion/Clothing/Shirts/Dress Shirts                                                               1941\n",
       "Fashion/Men's Fashion/Clothing/Jackets & Coats/Lightweight Jackets                                               1891\n",
       "Fashion/Men's Fashion/Clothing/Suits & Sport Coats/Suits                                                         1690\n",
       "                                                                                                                 ... \n",
       "Fashion/Women's Fashion/Clothing/Tops & Tees/Polos                                                                  1\n",
       "Fashion/Men's Fashion/Accessories                                                                                   1\n",
       "Fashion/Women's Fashion/Clothing/Lingerie, Sleep & Lounge/Lingerie/Bras/Nursing & Maternity Bras/Nursing Bras       1\n",
       "Fashion/Women's Fashion/Clothing/Lingerie, Sleep & Lounge/Lingerie/Slips/Full Slips                                 1\n",
       "Fashion/Men's Fashion/Clothing/Shirts/Tank Tops                                                                     1\n",
       "Name: category, Length: 205, dtype: int64"
      ]
     },
     "execution_count": 28,
     "metadata": {},
     "output_type": "execute_result"
    }
   ],
   "source": [
    "jumia_clothes.category.value_counts()"
   ]
  },
  {
   "cell_type": "code",
   "execution_count": 29,
   "metadata": {},
   "outputs": [],
   "source": [
    "jumia_clothes['Type']=jumia_clothes['category'].str.strip('Fashion/').str.split('/',expand=True)[1]\n",
    "jumia_clothes['category']=jumia_clothes['category'].str.strip('Fashion/').str.split('/',expand=True)[2]"
   ]
  },
  {
   "cell_type": "code",
   "execution_count": 30,
   "metadata": {},
   "outputs": [
    {
     "data": {
      "text/html": [
       "<div>\n",
       "<style scoped>\n",
       "    .dataframe tbody tr th:only-of-type {\n",
       "        vertical-align: middle;\n",
       "    }\n",
       "\n",
       "    .dataframe tbody tr th {\n",
       "        vertical-align: top;\n",
       "    }\n",
       "\n",
       "    .dataframe thead th {\n",
       "        text-align: right;\n",
       "    }\n",
       "</style>\n",
       "<table border=\"1\" class=\"dataframe\">\n",
       "  <thead>\n",
       "    <tr style=\"text-align: right;\">\n",
       "      <th></th>\n",
       "      <th>id</th>\n",
       "      <th>name</th>\n",
       "      <th>brand</th>\n",
       "      <th>category</th>\n",
       "      <th>price$</th>\n",
       "      <th>boutique_officielle</th>\n",
       "      <th>price</th>\n",
       "      <th>gender</th>\n",
       "      <th>price_before</th>\n",
       "      <th>promotion</th>\n",
       "      <th>reviews</th>\n",
       "      <th>numberofReviewers</th>\n",
       "      <th>Livraison_gratuite</th>\n",
       "      <th>Date</th>\n",
       "      <th>is_rated</th>\n",
       "      <th>Type</th>\n",
       "    </tr>\n",
       "  </thead>\n",
       "  <tbody>\n",
       "    <tr>\n",
       "      <th>0</th>\n",
       "      <td>GE232FA1FQVNSNAFAMZ</td>\n",
       "      <td>Hoodie/Capuchon Death Note Anime - Otaku</td>\n",
       "      <td>Generic</td>\n",
       "      <td>Fashion Hoodies &amp; Sweatshirts</td>\n",
       "      <td>6.04</td>\n",
       "      <td>No</td>\n",
       "      <td>64.60</td>\n",
       "      <td>Homme</td>\n",
       "      <td>233.0</td>\n",
       "      <td>72</td>\n",
       "      <td>3.2</td>\n",
       "      <td>81</td>\n",
       "      <td>No</td>\n",
       "      <td>2022-03-25</td>\n",
       "      <td>1</td>\n",
       "      <td>Clothing</td>\n",
       "    </tr>\n",
       "    <tr>\n",
       "      <th>1</th>\n",
       "      <td>GE232MW1JMM00NAFAMZ</td>\n",
       "      <td>Hoodie Manga Naruto Anime Itachi Uchiha Sweats...</td>\n",
       "      <td>Generic</td>\n",
       "      <td>Fashion Hoodies &amp; Sweatshirts</td>\n",
       "      <td>13.92</td>\n",
       "      <td>No</td>\n",
       "      <td>149.00</td>\n",
       "      <td>Homme</td>\n",
       "      <td>192.0</td>\n",
       "      <td>22</td>\n",
       "      <td>4</td>\n",
       "      <td>11</td>\n",
       "      <td>No</td>\n",
       "      <td>2022-03-25</td>\n",
       "      <td>1</td>\n",
       "      <td>Clothing</td>\n",
       "    </tr>\n",
       "    <tr>\n",
       "      <th>2</th>\n",
       "      <td>GE232MW011137NAFAMZ</td>\n",
       "      <td>Hoodie Manga Anime Naruto Shippuden Sweatshirt...</td>\n",
       "      <td>Generic</td>\n",
       "      <td>Fashion Hoodies &amp; Sweatshirts</td>\n",
       "      <td>20.46</td>\n",
       "      <td>No</td>\n",
       "      <td>219.00</td>\n",
       "      <td>Homme</td>\n",
       "      <td>260.0</td>\n",
       "      <td>16</td>\n",
       "      <td>4.5</td>\n",
       "      <td>19</td>\n",
       "      <td>No</td>\n",
       "      <td>2022-03-25</td>\n",
       "      <td>1</td>\n",
       "      <td>Clothing</td>\n",
       "    </tr>\n",
       "    <tr>\n",
       "      <th>3</th>\n",
       "      <td>GE232FA1MGS7TNAFAMZ</td>\n",
       "      <td>Hoodie / Capuchon noir avec motif de ATTACK ON...</td>\n",
       "      <td>Generic</td>\n",
       "      <td>Fashion Hoodies &amp; Sweatshirts</td>\n",
       "      <td>7.90</td>\n",
       "      <td>No</td>\n",
       "      <td>84.55</td>\n",
       "      <td>Homme</td>\n",
       "      <td>399.0</td>\n",
       "      <td>79</td>\n",
       "      <td>3.4</td>\n",
       "      <td>35</td>\n",
       "      <td>No</td>\n",
       "      <td>2022-03-25</td>\n",
       "      <td>1</td>\n",
       "      <td>Clothing</td>\n",
       "    </tr>\n",
       "    <tr>\n",
       "      <th>4</th>\n",
       "      <td>GE232MW0X9UR9NAFAMZ</td>\n",
       "      <td>Hoodie Manga Anime Naruto Shippuden Sweatshirt...</td>\n",
       "      <td>Generic</td>\n",
       "      <td>Fashion Hoodies &amp; Sweatshirts</td>\n",
       "      <td>13.92</td>\n",
       "      <td>No</td>\n",
       "      <td>149.00</td>\n",
       "      <td>Homme</td>\n",
       "      <td>285.0</td>\n",
       "      <td>48</td>\n",
       "      <td>3.3</td>\n",
       "      <td>33</td>\n",
       "      <td>No</td>\n",
       "      <td>2022-03-25</td>\n",
       "      <td>1</td>\n",
       "      <td>Clothing</td>\n",
       "    </tr>\n",
       "  </tbody>\n",
       "</table>\n",
       "</div>"
      ],
      "text/plain": [
       "                    id                                               name  \\\n",
       "0  GE232FA1FQVNSNAFAMZ           Hoodie/Capuchon Death Note Anime - Otaku   \n",
       "1  GE232MW1JMM00NAFAMZ  Hoodie Manga Naruto Anime Itachi Uchiha Sweats...   \n",
       "2  GE232MW011137NAFAMZ  Hoodie Manga Anime Naruto Shippuden Sweatshirt...   \n",
       "3  GE232FA1MGS7TNAFAMZ  Hoodie / Capuchon noir avec motif de ATTACK ON...   \n",
       "4  GE232MW0X9UR9NAFAMZ  Hoodie Manga Anime Naruto Shippuden Sweatshirt...   \n",
       "\n",
       "     brand                       category  price$ boutique_officielle   price  \\\n",
       "0  Generic  Fashion Hoodies & Sweatshirts    6.04                  No   64.60   \n",
       "1  Generic  Fashion Hoodies & Sweatshirts   13.92                  No  149.00   \n",
       "2  Generic  Fashion Hoodies & Sweatshirts   20.46                  No  219.00   \n",
       "3  Generic  Fashion Hoodies & Sweatshirts    7.90                  No   84.55   \n",
       "4  Generic  Fashion Hoodies & Sweatshirts   13.92                  No  149.00   \n",
       "\n",
       "  gender  price_before  promotion reviews numberofReviewers  \\\n",
       "0  Homme         233.0         72     3.2                81   \n",
       "1  Homme         192.0         22       4                11   \n",
       "2  Homme         260.0         16     4.5                19   \n",
       "3  Homme         399.0         79     3.4                35   \n",
       "4  Homme         285.0         48     3.3                33   \n",
       "\n",
       "  Livraison_gratuite        Date  is_rated      Type  \n",
       "0                 No  2022-03-25         1  Clothing  \n",
       "1                 No  2022-03-25         1  Clothing  \n",
       "2                 No  2022-03-25         1  Clothing  \n",
       "3                 No  2022-03-25         1  Clothing  \n",
       "4                 No  2022-03-25         1  Clothing  "
      ]
     },
     "execution_count": 30,
     "metadata": {},
     "output_type": "execute_result"
    }
   ],
   "source": [
    "jumia_clothes.head()"
   ]
  },
  {
   "cell_type": "code",
   "execution_count": 31,
   "metadata": {},
   "outputs": [],
   "source": [
    "jumia_clothes = jumia_clothes[jumia_clothes['Type']=='Clothing']"
   ]
  },
  {
   "cell_type": "code",
   "execution_count": 32,
   "metadata": {},
   "outputs": [
    {
     "data": {
      "text/html": [
       "<div>\n",
       "<style scoped>\n",
       "    .dataframe tbody tr th:only-of-type {\n",
       "        vertical-align: middle;\n",
       "    }\n",
       "\n",
       "    .dataframe tbody tr th {\n",
       "        vertical-align: top;\n",
       "    }\n",
       "\n",
       "    .dataframe thead th {\n",
       "        text-align: right;\n",
       "    }\n",
       "</style>\n",
       "<table border=\"1\" class=\"dataframe\">\n",
       "  <thead>\n",
       "    <tr style=\"text-align: right;\">\n",
       "      <th></th>\n",
       "      <th>id</th>\n",
       "      <th>name</th>\n",
       "      <th>brand</th>\n",
       "      <th>category</th>\n",
       "      <th>price$</th>\n",
       "      <th>boutique_officielle</th>\n",
       "      <th>price</th>\n",
       "      <th>gender</th>\n",
       "      <th>price_before</th>\n",
       "      <th>promotion</th>\n",
       "      <th>reviews</th>\n",
       "      <th>numberofReviewers</th>\n",
       "      <th>Livraison_gratuite</th>\n",
       "      <th>Date</th>\n",
       "      <th>is_rated</th>\n",
       "      <th>Type</th>\n",
       "    </tr>\n",
       "  </thead>\n",
       "  <tbody>\n",
       "    <tr>\n",
       "      <th>0</th>\n",
       "      <td>GE232FA1FQVNSNAFAMZ</td>\n",
       "      <td>Hoodie/Capuchon Death Note Anime - Otaku</td>\n",
       "      <td>Generic</td>\n",
       "      <td>Fashion Hoodies &amp; Sweatshirts</td>\n",
       "      <td>6.04</td>\n",
       "      <td>No</td>\n",
       "      <td>64.60</td>\n",
       "      <td>Homme</td>\n",
       "      <td>233.0</td>\n",
       "      <td>72</td>\n",
       "      <td>3.2</td>\n",
       "      <td>81</td>\n",
       "      <td>No</td>\n",
       "      <td>2022-03-25</td>\n",
       "      <td>1</td>\n",
       "      <td>Clothing</td>\n",
       "    </tr>\n",
       "    <tr>\n",
       "      <th>1</th>\n",
       "      <td>GE232MW1JMM00NAFAMZ</td>\n",
       "      <td>Hoodie Manga Naruto Anime Itachi Uchiha Sweats...</td>\n",
       "      <td>Generic</td>\n",
       "      <td>Fashion Hoodies &amp; Sweatshirts</td>\n",
       "      <td>13.92</td>\n",
       "      <td>No</td>\n",
       "      <td>149.00</td>\n",
       "      <td>Homme</td>\n",
       "      <td>192.0</td>\n",
       "      <td>22</td>\n",
       "      <td>4</td>\n",
       "      <td>11</td>\n",
       "      <td>No</td>\n",
       "      <td>2022-03-25</td>\n",
       "      <td>1</td>\n",
       "      <td>Clothing</td>\n",
       "    </tr>\n",
       "    <tr>\n",
       "      <th>2</th>\n",
       "      <td>GE232MW011137NAFAMZ</td>\n",
       "      <td>Hoodie Manga Anime Naruto Shippuden Sweatshirt...</td>\n",
       "      <td>Generic</td>\n",
       "      <td>Fashion Hoodies &amp; Sweatshirts</td>\n",
       "      <td>20.46</td>\n",
       "      <td>No</td>\n",
       "      <td>219.00</td>\n",
       "      <td>Homme</td>\n",
       "      <td>260.0</td>\n",
       "      <td>16</td>\n",
       "      <td>4.5</td>\n",
       "      <td>19</td>\n",
       "      <td>No</td>\n",
       "      <td>2022-03-25</td>\n",
       "      <td>1</td>\n",
       "      <td>Clothing</td>\n",
       "    </tr>\n",
       "    <tr>\n",
       "      <th>3</th>\n",
       "      <td>GE232FA1MGS7TNAFAMZ</td>\n",
       "      <td>Hoodie / Capuchon noir avec motif de ATTACK ON...</td>\n",
       "      <td>Generic</td>\n",
       "      <td>Fashion Hoodies &amp; Sweatshirts</td>\n",
       "      <td>7.90</td>\n",
       "      <td>No</td>\n",
       "      <td>84.55</td>\n",
       "      <td>Homme</td>\n",
       "      <td>399.0</td>\n",
       "      <td>79</td>\n",
       "      <td>3.4</td>\n",
       "      <td>35</td>\n",
       "      <td>No</td>\n",
       "      <td>2022-03-25</td>\n",
       "      <td>1</td>\n",
       "      <td>Clothing</td>\n",
       "    </tr>\n",
       "    <tr>\n",
       "      <th>4</th>\n",
       "      <td>GE232MW0X9UR9NAFAMZ</td>\n",
       "      <td>Hoodie Manga Anime Naruto Shippuden Sweatshirt...</td>\n",
       "      <td>Generic</td>\n",
       "      <td>Fashion Hoodies &amp; Sweatshirts</td>\n",
       "      <td>13.92</td>\n",
       "      <td>No</td>\n",
       "      <td>149.00</td>\n",
       "      <td>Homme</td>\n",
       "      <td>285.0</td>\n",
       "      <td>48</td>\n",
       "      <td>3.3</td>\n",
       "      <td>33</td>\n",
       "      <td>No</td>\n",
       "      <td>2022-03-25</td>\n",
       "      <td>1</td>\n",
       "      <td>Clothing</td>\n",
       "    </tr>\n",
       "  </tbody>\n",
       "</table>\n",
       "</div>"
      ],
      "text/plain": [
       "                    id                                               name  \\\n",
       "0  GE232FA1FQVNSNAFAMZ           Hoodie/Capuchon Death Note Anime - Otaku   \n",
       "1  GE232MW1JMM00NAFAMZ  Hoodie Manga Naruto Anime Itachi Uchiha Sweats...   \n",
       "2  GE232MW011137NAFAMZ  Hoodie Manga Anime Naruto Shippuden Sweatshirt...   \n",
       "3  GE232FA1MGS7TNAFAMZ  Hoodie / Capuchon noir avec motif de ATTACK ON...   \n",
       "4  GE232MW0X9UR9NAFAMZ  Hoodie Manga Anime Naruto Shippuden Sweatshirt...   \n",
       "\n",
       "     brand                       category  price$ boutique_officielle   price  \\\n",
       "0  Generic  Fashion Hoodies & Sweatshirts    6.04                  No   64.60   \n",
       "1  Generic  Fashion Hoodies & Sweatshirts   13.92                  No  149.00   \n",
       "2  Generic  Fashion Hoodies & Sweatshirts   20.46                  No  219.00   \n",
       "3  Generic  Fashion Hoodies & Sweatshirts    7.90                  No   84.55   \n",
       "4  Generic  Fashion Hoodies & Sweatshirts   13.92                  No  149.00   \n",
       "\n",
       "  gender  price_before  promotion reviews numberofReviewers  \\\n",
       "0  Homme         233.0         72     3.2                81   \n",
       "1  Homme         192.0         22       4                11   \n",
       "2  Homme         260.0         16     4.5                19   \n",
       "3  Homme         399.0         79     3.4                35   \n",
       "4  Homme         285.0         48     3.3                33   \n",
       "\n",
       "  Livraison_gratuite        Date  is_rated      Type  \n",
       "0                 No  2022-03-25         1  Clothing  \n",
       "1                 No  2022-03-25         1  Clothing  \n",
       "2                 No  2022-03-25         1  Clothing  \n",
       "3                 No  2022-03-25         1  Clothing  \n",
       "4                 No  2022-03-25         1  Clothing  "
      ]
     },
     "execution_count": 32,
     "metadata": {},
     "output_type": "execute_result"
    }
   ],
   "source": [
    "jumia_clothes.head()"
   ]
  },
  {
   "cell_type": "code",
   "execution_count": 33,
   "metadata": {},
   "outputs": [
    {
     "data": {
      "text/plain": [
       "(41703, 16)"
      ]
     },
     "execution_count": 33,
     "metadata": {},
     "output_type": "execute_result"
    }
   ],
   "source": [
    "jumia_clothes.shape"
   ]
  },
  {
   "cell_type": "code",
   "execution_count": 34,
   "metadata": {},
   "outputs": [
    {
     "data": {
      "text/plain": [
       "array(['Generic', 'Layssi', 'massinissa', 'TCML', 'Autre', 'Other',\n",
       "       'Biendell', 'VEADA', 'Koton', 'Sportlife', 'Artshirting', 'Amo',\n",
       "       'Mercedes', 'Bts Hoodies', 'Mode', 'Audi', 'Original Design',\n",
       "       'Myprotein', 'Fashion', 'Volkswagen', 'AZRAIDA SPORT', 'Macron',\n",
       "       'Incerun', 'Lc Waikiki', 'Adidas', 'Original', 'Quechua', 'Dice',\n",
       "       'Le Coq Sportif', 'Hollister', 'Produit Du Maroc', 'Ageneral',\n",
       "       'Diadora', 'Spinel', 'Puma', 'Jack & Jones', 'Penfield', 'Mitre',\n",
       "       'Caperlan', 'Trendyol Collection', 'Pull & Bear', 'Farah',\n",
       "       'Gstar Kids', 'Youta', 'Universal', 'Domyos', 'Timberland',\n",
       "       'Celopman', 'Viccini', 'Lorenzo Vittori', 'Celio', 'SHEIN',\n",
       "       'Jabador Maroc', 'Defacto', 'Gant', 'Reebok', 'Nike',\n",
       "       'Tommy Hilfiger', 'At Store', 'Geographical Norway', 'Decathlon',\n",
       "       'Livergy', 'MANISE', 'Batman', 'Mizuno', 'Luxe market', 'Weekwiki',\n",
       "       'Tshirt', 'Compressport', 'Umbro', 'Joma', 'Mckenzie', 'Converse',\n",
       "       'Coton', 'TAKKAD', 'Oscar', \"Marc O' Polo\", 'Lotto', 'Brave Soul',\n",
       "       'Tarz', 'Infini', 'Kalenji', 'State Of Art', 'Generic Xim',\n",
       "       'Fbird', 'Collumn', 'Ov', 'Fbaire', \"Kiree's\", 'Arsuxeo',\n",
       "       'Fondital', 'Forma Care', 'Hypnos', 'Mara Sho', 'Pyjamas',\n",
       "       'Sofiaman', 'Tex', 'Imaj', 'ALAN BROWN', 'Artengo', 'Leader', 'Kr',\n",
       "       'Kipsta', 'MEYRELI', 'KAYTAN', 'Shakespeare', 'Mi', 'Genera',\n",
       "       'OZYL', 'Inesis', 'John H', 'Dressfo', 'New Designes', 'AGENERALE',\n",
       "       'Oem', 'Olaian', 'Espiro', \"Partner's\", 'Lee Cooper',\n",
       "       'As Seen On Tv', \"WED'ZE\", 'Nb', 'FUTUR CHAMP', 'Watsons',\n",
       "       'UrbanSox', 'Some Things', 'YC', 'MHD Tatawi', 'Footjoy Ft',\n",
       "       'Tofisa by Modanisa', 'Camellia', 'BIRDIES', 'Zenane by Modanisa',\n",
       "       'Benin By Modanisa', 'Tavin By Modanisa', 'Refka By Modanisa',\n",
       "       'ADDAX Fashion', 'Zanzea', 'Por La Cara by Modanisa', 'Bob Style',\n",
       "       'Neways by Modanisa', 'Tropical mango', 'Alia By Modanisa',\n",
       "       'Selma Sari Design by Modanisa', 'Esmara', 'Ecesun by Modanisa',\n",
       "       'Yatta', 'Kata', 'Romwe', 'Celmia', 'laurie & yara', 'Aomei',\n",
       "       'Vonda', 'Tchibo', 'MJ', 'Chym-Couture', 'Gratful', 'New Balance',\n",
       "       'Roxy', 'George', 'Camaieu', 'Elpablo', 'Marwa',\n",
       "       'Miss Cazibe by Modanisa', 'Burun by Modanisa',\n",
       "       'Piennar by Modanisa', 'Evet', 'Phull by Modanisa', 'Pim Kie',\n",
       "       'Mixfeer', 'Urban', 'Douce lingerie', 'AKBENiZ by Modanisa',\n",
       "       'Sveltesse', 'Hummel', 'Kim', 'Etam', 'Rijona', 'Ny', 'MaBella',\n",
       "       'sexy diva', 'Miss Rose', 'SEXY', 'SmartSexy', 'Shock Absorber',\n",
       "       'Fawn by Modanisa', 'Distrione', 'Doremi', 'Flora', 'Nbb',\n",
       "       'Penye Mood', \"Slim 'N Lift\", 'Berlei', 'Hana', 'Turkey', 'Divers',\n",
       "       'Olo', 'Sandy', 'General', 'Lingeries', 'Heat', 'Damart',\n",
       "       'SO CHIC', 'Miss Belt', 'Dika', 'Camilla', 'WEIXINBUY',\n",
       "       'Women Secret', 'Primark', 'VarsBaby', 'Alfasa by Modanisa',\n",
       "       'Mayo Bella by Modanisa', 'Femme', 'Marina Mayo by Modanisa',\n",
       "       'Emayo by Modanisa', 'Ecardin by Modanisa',\n",
       "       'Remsa Mayo by Modanisa', 'Riva Mera by Modanisa', 'Ikea',\n",
       "       'Adasea by Modanisa', 'Sunmore by Modanisa', 'Gemo',\n",
       "       'AISE TESETTUR by Modanisa', 'Gypsy', 'Everyday basic By Modanisa',\n",
       "       'Tesmay by Modanisa', 'Seamay by Modanisa', 'Ranuna by Modanisa',\n",
       "       'Lingerie Land', 'As Fashion', 'Françoise Saget',\n",
       "       'AYSE MELEK TASARIM by Modanisa', 'M &J', 'Jennyfer',\n",
       "       'Camelya fashion', 'SBC', 'ZAR', 'Eva', 'Orga Cuir', 'Kokobuy',\n",
       "       'Refka Outlet by Modanisa', 'Missvalle', 'FD SPORTS by Modanisa',\n",
       "       'Saye Modest by Modanisa', \"Jus D'Orange\", 'Puane by Modanisa',\n",
       "       'Women Only', 'OLEBYKOTON', 'Jo. Charline', 'Pilise',\n",
       "       'Christine LAURE', 'Promod', 'None', 'BA Basic', 'Modanisa',\n",
       "       'Dubai Abaya', 'ALVINA', 'Slim Body'], dtype=object)"
      ]
     },
     "execution_count": 34,
     "metadata": {},
     "output_type": "execute_result"
    }
   ],
   "source": [
    "jumia_clothes['brand'].unique()"
   ]
  },
  {
   "cell_type": "code",
   "execution_count": 39,
   "metadata": {},
   "outputs": [],
   "source": [
    "jumia_clothes.dropna(subset=['price_before'],inplace=True)"
   ]
  },
  {
   "cell_type": "code",
   "execution_count": 40,
   "metadata": {},
   "outputs": [
    {
     "data": {
      "text/plain": [
       "id                     0\n",
       "name                   0\n",
       "brand                  0\n",
       "category               0\n",
       "price$                 0\n",
       "boutique_officielle    0\n",
       "price                  0\n",
       "gender                 0\n",
       "price_before           0\n",
       "promotion              0\n",
       "reviews                0\n",
       "numberofReviewers      0\n",
       "Livraison_gratuite     0\n",
       "Date                   0\n",
       "is_rated               0\n",
       "Type                   0\n",
       "dtype: int64"
      ]
     },
     "execution_count": 40,
     "metadata": {},
     "output_type": "execute_result"
    }
   ],
   "source": [
    "jumia_clothes.isna().sum()"
   ]
  },
  {
   "cell_type": "code",
   "execution_count": null,
   "metadata": {},
   "outputs": [],
   "source": []
  }
 ],
 "metadata": {
  "kernelspec": {
   "display_name": "Python 3",
   "language": "python",
   "name": "python3"
  },
  "language_info": {
   "codemirror_mode": {
    "name": "ipython",
    "version": 3
   },
   "file_extension": ".py",
   "mimetype": "text/x-python",
   "name": "python",
   "nbconvert_exporter": "python",
   "pygments_lexer": "ipython3",
   "version": "3.8.5"
  }
 },
 "nbformat": 4,
 "nbformat_minor": 4
}
